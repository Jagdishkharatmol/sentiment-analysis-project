{
  "nbformat": 4,
  "nbformat_minor": 0,
  "metadata": {
    "colab": {
      "name": "discussion_forum_abuse_detection.ipynb",
      "provenance": []
    },
    "kernelspec": {
      "name": "python3",
      "display_name": "Python 3"
    },
    "language_info": {
      "name": "python"
    }
  },
  "cells": [
    {
      "cell_type": "markdown",
      "metadata": {
        "id": "NpHm2WUingMs"
      },
      "source": [
        "# **Context**\n",
        "\n",
        "This is was a Dataset Created as a part of the university Project On Sentimental Analysis On Multi-Source Social Media Platforms using PySpark.\n",
        "\n",
        "There two datasets Respectively one Consists of Tweets from Twitter with Sentimental Label and the other from Reddit which Consists of Comments with its Sentimental Label.\n",
        "\n",
        "1. Twitter Dataset\n",
        "2. Reddit Dataset\n",
        "\n",
        "All these Tweets and Comments were extracted using there Respective Apis Tweepy and PRAW.\n",
        "\n",
        "\n",
        "**0 Indicating it is a Neutral Tweet/Comment**\n",
        "\n",
        "**1 Indicating a Postive Sentiment** \n",
        "\n",
        "**-1 Indicating a Negative Tweet/Comment**"
      ]
    },
    {
      "cell_type": "code",
      "metadata": {
        "id": "Sf7x5k6_hgMy"
      },
      "source": [
        "#import the library\n",
        "import pandas as pd\n",
        "import numpy as np\n",
        "import matplotlib.pyplot as plt\n",
        "import re\n",
        "\n",
        "import tensorflow as tf\n",
        "tensorflow=2.5\n",
        "from tensorflow import keras\n",
        "from keras.layers import Dense,Flatten,LSTM,Embedding,Dropout\n",
        "from keras.layers.experimental.preprocessing import TextVectorization\n",
        "from keras.preprocessing.text import Tokenizer\n",
        "from keras.preprocessing.sequence import pad_sequences"
      ],
      "execution_count": null,
      "outputs": []
    },
    {
      "cell_type": "code",
      "metadata": {
        "id": "G4NiD5TzlsVU"
      },
      "source": [
        "#reading data\n",
        "re_df=pd.read_csv(\"Reddit_Data.csv\",nrows=1000)\n",
        "tw_df=pd.read_csv(\"Twitter_Data.csv\",nrows=1000)"
      ],
      "execution_count": null,
      "outputs": []
    },
    {
      "cell_type": "code",
      "metadata": {
        "colab": {
          "base_uri": "https://localhost:8080/"
        },
        "id": "GnewuJMDl-6W",
        "outputId": "c2d94deb-7efa-4322-a421-65e414124aeb"
      },
      "source": [
        "#knowing the data\n",
        "print(f\"Top 5 records :\\n\\n {re_df.head()} \\n\\n\\n\\n \")\n",
        "print(f\"Information of columns : {re_df.info()}\\n\\n\\n\\n\")\n"
      ],
      "execution_count": null,
      "outputs": [
        {
          "output_type": "stream",
          "text": [
            "Top 5 records :\n",
            "\n",
            "                                        clean_comment  category\n",
            "0   family mormon have never tried explain them t...         1\n",
            "1  buddhism has very much lot compatible with chr...         1\n",
            "2  seriously don say thing first all they won get...        -1\n",
            "3  what you have learned yours and only yours wha...         0\n",
            "4  for your own benefit you may want read living ...         1 \n",
            "\n",
            "\n",
            "\n",
            " \n",
            "<class 'pandas.core.frame.DataFrame'>\n",
            "RangeIndex: 1000 entries, 0 to 999\n",
            "Data columns (total 2 columns):\n",
            " #   Column         Non-Null Count  Dtype \n",
            "---  ------         --------------  ----- \n",
            " 0   clean_comment  998 non-null    object\n",
            " 1   category       1000 non-null   int64 \n",
            "dtypes: int64(1), object(1)\n",
            "memory usage: 15.8+ KB\n",
            "Information of columns : None\n",
            "\n",
            "\n",
            "\n",
            "\n"
          ],
          "name": "stdout"
        }
      ]
    },
    {
      "cell_type": "code",
      "metadata": {
        "colab": {
          "base_uri": "https://localhost:8080/"
        },
        "id": "ZjoHv9s3muVN",
        "outputId": "6c81f4eb-2f92-4f84-977c-8fa01975f3c5"
      },
      "source": [
        "#checking for nan values and duplicated values in table\n",
        "print(f\"Number of nan values:\\n\\n{re_df.isna().sum()}\\n\\n\")\n",
        "print(f\"Duplicated Values: \\n\\n {re_df.duplicated(subset=['clean_comment'],keep='first').value_counts()}\")"
      ],
      "execution_count": null,
      "outputs": [
        {
          "output_type": "stream",
          "text": [
            "Number of nan values:\n",
            "\n",
            "clean_comment    2\n",
            "category         0\n",
            "dtype: int64\n",
            "\n",
            "\n",
            "Duplicated Values: \n",
            "\n",
            " False    995\n",
            "True       5\n",
            "dtype: int64\n"
          ],
          "name": "stdout"
        }
      ]
    },
    {
      "cell_type": "code",
      "metadata": {
        "colab": {
          "base_uri": "https://localhost:8080/"
        },
        "id": "XZ3AoC6Jofqi",
        "outputId": "fc1ba397-2af9-4f3b-d56b-11d5d26b4aab"
      },
      "source": [
        "#dropping the duplicated and  nan rows\n",
        "re_df.dropna(inplace=True)\n",
        "re_df.drop_duplicates(subset=[\"clean_comment\"],inplace=True)\n",
        "#checking\n",
        "re_df.isna().sum()\n",
        "re_df.duplicated(subset=['clean_comment'],keep='first').value_counts()"
      ],
      "execution_count": null,
      "outputs": [
        {
          "output_type": "execute_result",
          "data": {
            "text/plain": [
              "False    994\n",
              "dtype: int64"
            ]
          },
          "metadata": {
            "tags": []
          },
          "execution_count": 9
        }
      ]
    },
    {
      "cell_type": "code",
      "metadata": {
        "colab": {
          "base_uri": "https://localhost:8080/",
          "height": 742
        },
        "id": "PG8TJhaCrME8",
        "outputId": "1a7750dc-ac6f-4ccd-9d33-152242a1cdc3"
      },
      "source": [
        "print(f\"Count of records in different categories:\\n\\n {re_df['category'].value_counts()}\\n\\n\")\n",
        "\n",
        "#seeing the dataset is balanced or not\n",
        "y_values=[value for value in re_df[\"category\"].value_counts()]\n",
        "x_label=[str(value) for value in re_df[\"category\"].value_counts().index]\n",
        "x_values=[i for i in range(3)]\n",
        "#x_label.insert(0,0)\n",
        "plt.figure(figsize=(10,10))\n",
        "plt.bar(x_values,y_values,0.2)\n",
        "plt.xticks(ticks=[0,1,2],labels=x_label)\n",
        "plt.xlabel(\"Different  categories\")\n",
        "plt.ylabel(\"Count\")\n",
        "plt.show()"
      ],
      "execution_count": null,
      "outputs": [
        {
          "output_type": "stream",
          "text": [
            "Count of records in different categories:\n",
            "\n",
            "  1    495\n",
            " 0    293\n",
            "-1    206\n",
            "Name: category, dtype: int64\n",
            "\n",
            "\n"
          ],
          "name": "stdout"
        },
        {
          "output_type": "display_data",
          "data": {
            "image/png": "[encoded data removed]",
            "text/plain": [
              "<Figure size 720x720 with 1 Axes>"
            ]
          },
          "metadata": {
            "tags": [],
            "needs_background": "light"
          }
        }
      ]
    },
    {
      "cell_type": "markdown",
      "metadata": {
        "id": "BIcU2ftK08kM"
      },
      "source": [
        "The dataset seems to be disbalanced \n",
        "\n",
        "To tackle this we can use over sampling or under sampling. As our data is not huge data we would use over sampling\n",
        "\n",
        "Our evaluation matrix can be F1 score.\n",
        "\n"
      ]
    },
    {
      "cell_type": "code",
      "metadata": {
        "colab": {
          "base_uri": "https://localhost:8080/"
        },
        "id": "ZE8pJFAmsFfG",
        "outputId": "f8231603-9087-4be7-88f7-276b0d6f9902"
      },
      "source": [
        "# import library\n",
        "from imblearn.over_sampling import RandomOverSampler\n",
        "\n",
        "ros = RandomOverSampler(random_state=42)\n",
        "\n",
        "# fit predictor and target variable\n",
        "x=re_df[\"clean_comment\"].values.reshape(-1,1)\n",
        "y=re_df[\"category\"].values.reshape(-1,1)\n",
        "x_ros, y_ros = ros.fit_resample(x, y)\n",
        "\n",
        "print('Original dataset shape', y.shape)\n",
        "print('Resample dataset shape', y_ros.shape)"
      ],
      "execution_count": null,
      "outputs": [
        {
          "output_type": "stream",
          "text": [
            "/usr/local/lib/python3.7/dist-packages/sklearn/externals/six.py:31: FutureWarning: The module is deprecated in version 0.21 and will be removed in version 0.23 since we've dropped support for Python 2.7. Please rely on the official version of six (https://pypi.org/project/six/).\n",
            "  \"(https://pypi.org/project/six/).\", FutureWarning)\n"
          ],
          "name": "stderr"
        },
        {
          "output_type": "stream",
          "text": [
            "Original dataset shape (994, 1)\n",
            "Resample dataset shape (1485,)\n"
          ],
          "name": "stdout"
        },
        {
          "output_type": "stream",
          "text": [
            "/usr/local/lib/python3.7/dist-packages/sklearn/utils/deprecation.py:144: FutureWarning: The sklearn.neighbors.base module is  deprecated in version 0.22 and will be removed in version 0.24. The corresponding classes / functions should instead be imported from sklearn.neighbors. Anything that cannot be imported from sklearn.neighbors is now part of the private API.\n",
            "  warnings.warn(message, FutureWarning)\n",
            "/usr/local/lib/python3.7/dist-packages/sklearn/utils/validation.py:760: DataConversionWarning: A column-vector y was passed when a 1d array was expected. Please change the shape of y to (n_samples, ), for example using ravel().\n",
            "  y = column_or_1d(y, warn=True)\n",
            "/usr/local/lib/python3.7/dist-packages/sklearn/utils/deprecation.py:87: FutureWarning: Function safe_indexing is deprecated; safe_indexing is deprecated in version 0.22 and will be removed in version 0.24.\n",
            "  warnings.warn(msg, category=FutureWarning)\n"
          ],
          "name": "stderr"
        }
      ]
    },
    {
      "cell_type": "code",
      "metadata": {
        "colab": {
          "base_uri": "https://localhost:8080/",
          "height": 436
        },
        "id": "lhBsQ9MNsH_E",
        "outputId": "ceeb0dac-1f6e-4b03-d19a-4c676bd280a5"
      },
      "source": [
        "print(x_ros.shape,y_ros.shape)\n",
        "x_ros=x_ros.reshape(-1,)\n",
        "y_ros=y_ros.reshape(-1,)\n",
        "#-1 meaning\n",
        "#It simply means that it is an unknown dimension and we want numpy to figure it out.\n",
        "\n",
        "df_reddit=pd.DataFrame(data=list(zip(x_ros,y_ros)),columns=[\"comment\",\"category\"])\n",
        "df_reddit"
      ],
      "execution_count": null,
      "outputs": [
        {
          "output_type": "stream",
          "text": [
            "(1485, 1) (1485,)\n"
          ],
          "name": "stdout"
        },
        {
          "output_type": "execute_result",
          "data": {
            "text/html": [
              "<div>\n",
              "<style scoped>\n",
              "    .dataframe tbody tr th:only-of-type {\n",
              "        vertical-align: middle;\n",
              "    }\n",
              "\n",
              "    .dataframe tbody tr th {\n",
              "        vertical-align: top;\n",
              "    }\n",
              "\n",
              "    .dataframe thead th {\n",
              "        text-align: right;\n",
              "    }\n",
              "</style>\n",
              "<table border=\"1\" class=\"dataframe\">\n",
              "  <thead>\n",
              "    <tr style=\"text-align: right;\">\n",
              "      <th></th>\n",
              "      <th>comment</th>\n",
              "      <th>category</th>\n",
              "    </tr>\n",
              "  </thead>\n",
              "  <tbody>\n",
              "    <tr>\n",
              "      <th>0</th>\n",
              "      <td>family mormon have never tried explain them t...</td>\n",
              "      <td>1</td>\n",
              "    </tr>\n",
              "    <tr>\n",
              "      <th>1</th>\n",
              "      <td>buddhism has very much lot compatible with chr...</td>\n",
              "      <td>1</td>\n",
              "    </tr>\n",
              "    <tr>\n",
              "      <th>2</th>\n",
              "      <td>seriously don say thing first all they won get...</td>\n",
              "      <td>-1</td>\n",
              "    </tr>\n",
              "    <tr>\n",
              "      <th>3</th>\n",
              "      <td>what you have learned yours and only yours wha...</td>\n",
              "      <td>0</td>\n",
              "    </tr>\n",
              "    <tr>\n",
              "      <th>4</th>\n",
              "      <td>for your own benefit you may want read living ...</td>\n",
              "      <td>1</td>\n",
              "    </tr>\n",
              "    <tr>\n",
              "      <th>...</th>\n",
              "      <td>...</td>\n",
              "      <td>...</td>\n",
              "    </tr>\n",
              "    <tr>\n",
              "      <th>1480</th>\n",
              "      <td>because arvind kejriwal reminds robespierre</td>\n",
              "      <td>0</td>\n",
              "    </tr>\n",
              "    <tr>\n",
              "      <th>1481</th>\n",
              "      <td>what the total cost for this battlestation</td>\n",
              "      <td>0</td>\n",
              "    </tr>\n",
              "    <tr>\n",
              "      <th>1482</th>\n",
              "      <td>any specific reason you went with acrylic tubi...</td>\n",
              "      <td>0</td>\n",
              "    </tr>\n",
              "    <tr>\n",
              "      <th>1483</th>\n",
              "      <td>aurum mom</td>\n",
              "      <td>0</td>\n",
              "    </tr>\n",
              "    <tr>\n",
              "      <th>1484</th>\n",
              "      <td>ohhh bit audiophile how that magni modi combo ...</td>\n",
              "      <td>0</td>\n",
              "    </tr>\n",
              "  </tbody>\n",
              "</table>\n",
              "<p>1485 rows × 2 columns</p>\n",
              "</div>"
            ],
            "text/plain": [
              "                                                comment  category\n",
              "0      family mormon have never tried explain them t...         1\n",
              "1     buddhism has very much lot compatible with chr...         1\n",
              "2     seriously don say thing first all they won get...        -1\n",
              "3     what you have learned yours and only yours wha...         0\n",
              "4     for your own benefit you may want read living ...         1\n",
              "...                                                 ...       ...\n",
              "1480       because arvind kejriwal reminds robespierre          0\n",
              "1481        what the total cost for this battlestation          0\n",
              "1482  any specific reason you went with acrylic tubi...         0\n",
              "1483                                         aurum mom          0\n",
              "1484  ohhh bit audiophile how that magni modi combo ...         0\n",
              "\n",
              "[1485 rows x 2 columns]"
            ]
          },
          "metadata": {
            "tags": []
          },
          "execution_count": 12
        }
      ]
    },
    {
      "cell_type": "code",
      "metadata": {
        "colab": {
          "base_uri": "https://localhost:8080/"
        },
        "id": "t4NTxBwmNRcX",
        "outputId": "fc912f8d-b241-4448-9171-5f509e649116"
      },
      "source": [
        "df_reddit.columns"
      ],
      "execution_count": null,
      "outputs": [
        {
          "output_type": "execute_result",
          "data": {
            "text/plain": [
              "Index(['comment', 'category'], dtype='object')"
            ]
          },
          "metadata": {
            "tags": []
          },
          "execution_count": 13
        }
      ]
    },
    {
      "cell_type": "code",
      "metadata": {
        "colab": {
          "base_uri": "https://localhost:8080/"
        },
        "id": "brY3QDLnTXGi",
        "outputId": "bf6e57e9-2ed9-4e49-debf-7b49bf8a05dd"
      },
      "source": [
        "df_reddit[\"category\"].value_counts()"
      ],
      "execution_count": null,
      "outputs": [
        {
          "output_type": "execute_result",
          "data": {
            "text/plain": [
              " 0    495\n",
              " 1    495\n",
              "-1    495\n",
              "Name: category, dtype: int64"
            ]
          },
          "metadata": {
            "tags": []
          },
          "execution_count": 14
        }
      ]
    },
    {
      "cell_type": "code",
      "metadata": {
        "colab": {
          "base_uri": "https://localhost:8080/",
          "height": 1000
        },
        "id": "_yRvGM4MqCHl",
        "outputId": "26bcddb5-db10-4d5f-adf4-99d429563d8b"
      },
      "source": [
        "#knowing the data\n",
        "print(f\"Top 5 records :\\n\\n {tw_df.head()} \\n\\n\\n\\n \")\n",
        "print(f\"Information of columns : {tw_df.info()}\\n\\n\\n\\n\")\n",
        "\n",
        "\n",
        "#checking for nan values and duplicated values in table\n",
        "print(f\"Number of nan values:\\n\\n{tw_df.isna().sum()}\\n\\n\")\n",
        "print(f\"Duplicated Values: \\n\\n {tw_df.duplicated(subset=['clean_text'],keep='first').value_counts()}\")\n",
        "\n",
        "\n",
        "#dropping the duplicated and  nan rows\n",
        "tw_df.dropna(inplace=True)\n",
        "tw_df.drop_duplicates(subset=[\"clean_text\"],inplace=True)\n",
        "#checking\n",
        "tw_df.isna().sum()\n",
        "tw_df.duplicated(subset=['clean_text'],keep='first').value_counts()\n",
        "\n",
        "\n",
        "print(f\"Count of records in different categories:\\n\\n {tw_df['category'].value_counts()}\\n\\n\")\n",
        "\n",
        "#seeing the dataset is balanced or not\n",
        "y_values=[value for value in tw_df[\"category\"].value_counts()]\n",
        "x_label=[str(value) for value in tw_df[\"category\"].value_counts().index]\n",
        "x_values=[i for i in range(3)]\n",
        "#x_label.insert(0,0)\n",
        "plt.figure(figsize=(10,10))\n",
        "plt.bar(x_values,y_values,0.2)\n",
        "plt.xticks(ticks=[0,1,2],labels=x_label)\n",
        "plt.xlabel(\"Different  categories\")\n",
        "plt.ylabel(\"Count\")\n",
        "plt.show()\n",
        "\n"
      ],
      "execution_count": null,
      "outputs": [
        {
          "output_type": "stream",
          "text": [
            "Top 5 records :\n",
            "\n",
            "                                           clean_text  category\n",
            "0  when modi promised “minimum government maximum...        -1\n",
            "1  talk all the nonsense and continue all the dra...         0\n",
            "2  what did just say vote for modi  welcome bjp t...         1\n",
            "3  asking his supporters prefix chowkidar their n...         1\n",
            "4  answer who among these the most powerful world...         1 \n",
            "\n",
            "\n",
            "\n",
            " \n",
            "<class 'pandas.core.frame.DataFrame'>\n",
            "RangeIndex: 1000 entries, 0 to 999\n",
            "Data columns (total 2 columns):\n",
            " #   Column      Non-Null Count  Dtype \n",
            "---  ------      --------------  ----- \n",
            " 0   clean_text  999 non-null    object\n",
            " 1   category    1000 non-null   int64 \n",
            "dtypes: int64(1), object(1)\n",
            "memory usage: 15.8+ KB\n",
            "Information of columns : None\n",
            "\n",
            "\n",
            "\n",
            "\n",
            "Number of nan values:\n",
            "\n",
            "clean_text    1\n",
            "category      0\n",
            "dtype: int64\n",
            "\n",
            "\n",
            "Duplicated Values: \n",
            "\n",
            " False    1000\n",
            "dtype: int64\n",
            "Count of records in different categories:\n",
            "\n",
            "  1    441\n",
            " 0    333\n",
            "-1    225\n",
            "Name: category, dtype: int64\n",
            "\n",
            "\n"
          ],
          "name": "stdout"
        },
        {
          "output_type": "display_data",
          "data": {
            "image/png": "[encoded data removed]",
            "text/plain": [
              "<Figure size 720x720 with 1 Axes>"
            ]
          },
          "metadata": {
            "tags": [],
            "needs_background": "light"
          }
        }
      ]
    },
    {
      "cell_type": "code",
      "metadata": {
        "colab": {
          "base_uri": "https://localhost:8080/"
        },
        "id": "Tk0SNAf5sT1t",
        "outputId": "c4de97df-a77c-4a08-9d82-71d82dc6d188"
      },
      "source": [
        "# import library\n",
        "from imblearn.over_sampling import RandomOverSampler\n",
        "\n",
        "ros = RandomOverSampler(random_state=42)\n",
        "\n",
        "# fit predictor and target variable\n",
        "x=re_df[\"clean_comment\"].values.reshape(-1,1)\n",
        "y=re_df[\"category\"].values.reshape(-1,1)\n",
        "x_ros, y_ros = ros.fit_resample(x, y)\n",
        "\n",
        "print('Original dataset shape', y.shape)\n",
        "print('Resample dataset shape', y_ros.shape)\n",
        "\n",
        "\n",
        "print(x_ros.shape,y_ros.shape)\n",
        "x_ros=x_ros.reshape(-1,)\n",
        "y_ros=y_ros.reshape(-1,)\n",
        "#-1 meaning\n",
        "#It simply means that it is an unknown dimension and we want numpy to figure it out.\n",
        "\n",
        "df_twitter=pd.DataFrame(data=list(zip(x_ros,y_ros)),columns=[\"comment\",\"category\"])\n",
        "df_twitter[\"category\"].value_counts()"
      ],
      "execution_count": null,
      "outputs": [
        {
          "output_type": "stream",
          "text": [
            "Original dataset shape (994, 1)\n",
            "Resample dataset shape (1485,)\n",
            "(1485, 1) (1485,)\n"
          ],
          "name": "stdout"
        },
        {
          "output_type": "stream",
          "text": [
            "/usr/local/lib/python3.7/dist-packages/sklearn/utils/validation.py:760: DataConversionWarning: A column-vector y was passed when a 1d array was expected. Please change the shape of y to (n_samples, ), for example using ravel().\n",
            "  y = column_or_1d(y, warn=True)\n",
            "/usr/local/lib/python3.7/dist-packages/sklearn/utils/deprecation.py:87: FutureWarning: Function safe_indexing is deprecated; safe_indexing is deprecated in version 0.22 and will be removed in version 0.24.\n",
            "  warnings.warn(msg, category=FutureWarning)\n"
          ],
          "name": "stderr"
        },
        {
          "output_type": "execute_result",
          "data": {
            "text/plain": [
              " 0    495\n",
              " 1    495\n",
              "-1    495\n",
              "Name: category, dtype: int64"
            ]
          },
          "metadata": {
            "tags": []
          },
          "execution_count": 16
        }
      ]
    },
    {
      "cell_type": "markdown",
      "metadata": {
        "id": "mfHt1dXToWMh"
      },
      "source": [
        "The dataset is balanced now\n"
      ]
    },
    {
      "cell_type": "code",
      "metadata": {
        "colab": {
          "base_uri": "https://localhost:8080/"
        },
        "id": "mRMF4ZshvyGr",
        "outputId": "71be7094-758c-4228-9c4f-cd72f607422d"
      },
      "source": [
        "#merging the 2 data set \n",
        "df=pd.concat([df_reddit,df_twitter],axis=0)\n",
        "df.shape"
      ],
      "execution_count": null,
      "outputs": [
        {
          "output_type": "execute_result",
          "data": {
            "text/plain": [
              "(2970, 2)"
            ]
          },
          "metadata": {
            "tags": []
          },
          "execution_count": 17
        }
      ]
    },
    {
      "cell_type": "code",
      "metadata": {
        "id": "EElowDkMTcZO",
        "colab": {
          "base_uri": "https://localhost:8080/",
          "height": 359
        },
        "outputId": "7defd85c-0d8b-4608-9a83-53a345096352"
      },
      "source": [
        "#lower the data\n",
        "df[\"comment\"]=df[\"comment\"].apply(lambda x: x.lower())\n",
        "#Cleaning the data\n",
        "df[\"comment\"]=df[\"comment\"].apply(lambda x: re.sub(\"[^a-zA-Z0-9\\s]\",\"\",x))\n",
        "df.head(10)"
      ],
      "execution_count": null,
      "outputs": [
        {
          "output_type": "execute_result",
          "data": {
            "text/html": [
              "<div>\n",
              "<style scoped>\n",
              "    .dataframe tbody tr th:only-of-type {\n",
              "        vertical-align: middle;\n",
              "    }\n",
              "\n",
              "    .dataframe tbody tr th {\n",
              "        vertical-align: top;\n",
              "    }\n",
              "\n",
              "    .dataframe thead th {\n",
              "        text-align: right;\n",
              "    }\n",
              "</style>\n",
              "<table border=\"1\" class=\"dataframe\">\n",
              "  <thead>\n",
              "    <tr style=\"text-align: right;\">\n",
              "      <th></th>\n",
              "      <th>comment</th>\n",
              "      <th>category</th>\n",
              "    </tr>\n",
              "  </thead>\n",
              "  <tbody>\n",
              "    <tr>\n",
              "      <th>0</th>\n",
              "      <td>family mormon have never tried explain them t...</td>\n",
              "      <td>1</td>\n",
              "    </tr>\n",
              "    <tr>\n",
              "      <th>1</th>\n",
              "      <td>buddhism has very much lot compatible with chr...</td>\n",
              "      <td>1</td>\n",
              "    </tr>\n",
              "    <tr>\n",
              "      <th>2</th>\n",
              "      <td>seriously don say thing first all they won get...</td>\n",
              "      <td>-1</td>\n",
              "    </tr>\n",
              "    <tr>\n",
              "      <th>3</th>\n",
              "      <td>what you have learned yours and only yours wha...</td>\n",
              "      <td>0</td>\n",
              "    </tr>\n",
              "    <tr>\n",
              "      <th>4</th>\n",
              "      <td>for your own benefit you may want read living ...</td>\n",
              "      <td>1</td>\n",
              "    </tr>\n",
              "    <tr>\n",
              "      <th>5</th>\n",
              "      <td>you should all sit down together and watch the...</td>\n",
              "      <td>-1</td>\n",
              "    </tr>\n",
              "    <tr>\n",
              "      <th>6</th>\n",
              "      <td>was teens when discovered zen meditation was ...</td>\n",
              "      <td>1</td>\n",
              "    </tr>\n",
              "    <tr>\n",
              "      <th>7</th>\n",
              "      <td>jesus was zen meets jew</td>\n",
              "      <td>0</td>\n",
              "    </tr>\n",
              "    <tr>\n",
              "      <th>8</th>\n",
              "      <td>there are two varieties christians dogmatic th...</td>\n",
              "      <td>-1</td>\n",
              "    </tr>\n",
              "    <tr>\n",
              "      <th>9</th>\n",
              "      <td>dont worry about trying explain yourself just ...</td>\n",
              "      <td>1</td>\n",
              "    </tr>\n",
              "  </tbody>\n",
              "</table>\n",
              "</div>"
            ],
            "text/plain": [
              "                                             comment  category\n",
              "0   family mormon have never tried explain them t...         1\n",
              "1  buddhism has very much lot compatible with chr...         1\n",
              "2  seriously don say thing first all they won get...        -1\n",
              "3  what you have learned yours and only yours wha...         0\n",
              "4  for your own benefit you may want read living ...         1\n",
              "5  you should all sit down together and watch the...        -1\n",
              "6   was teens when discovered zen meditation was ...         1\n",
              "7                           jesus was zen meets jew          0\n",
              "8  there are two varieties christians dogmatic th...        -1\n",
              "9  dont worry about trying explain yourself just ...         1"
            ]
          },
          "metadata": {
            "tags": []
          },
          "execution_count": 18
        }
      ]
    },
    {
      "cell_type": "code",
      "metadata": {
        "colab": {
          "base_uri": "https://localhost:8080/",
          "height": 606
        },
        "id": "kRXYl80Kormg",
        "outputId": "d4391402-1c2b-4639-ee77-99b4627fa5ca"
      },
      "source": [
        "plt.figure(figsize=(10,10))\n",
        "word_count=df['comment'].apply(lambda x:len(x.split()))\n",
        "y=word_count.value_counts()\n",
        "x=y.index\n",
        "plt.bar(x,y,width=0.5)\n",
        "plt.xlim(0,90)\n",
        "plt.xlabel('lenght of words in sentences')\n",
        "plt.ylabel('count')\n",
        "plt.show()"
      ],
      "execution_count": null,
      "outputs": [
        {
          "output_type": "display_data",
          "data": {
            "image/png": "[encoded data removed]",
            "text/plain": [
              "<Figure size 720x720 with 1 Axes>"
            ]
          },
          "metadata": {
            "tags": [],
            "needs_background": "light"
          }
        }
      ]
    },
    {
      "cell_type": "code",
      "metadata": {
        "id": "3O6cHqvowbpB"
      },
      "source": [
        "#num_words: the maximum number of words to keep, based on word frequency. Only the most common num_words-1 words will be kept.\n",
        "#preparing data for model\n",
        "\n",
        "tokenizer = Tokenizer(num_words=None,split=\" \") #text ----> sequence of integer\n",
        "tokenizer.fit_on_texts(df[\"comment\"].values)\n",
        "\n",
        "x=tokenizer.texts_to_sequences(df['comment'].values)\n",
        "x=pad_sequences(x)"
      ],
      "execution_count": null,
      "outputs": []
    },
    {
      "cell_type": "code",
      "metadata": {
        "colab": {
          "base_uri": "https://localhost:8080/"
        },
        "id": "-V5m3nHygcEe",
        "outputId": "90d22fd3-5055-4e3e-f8c0-9476dd257f97"
      },
      "source": [
        "#dictionary of our words in dataset\n",
        "tokenizer.word_docs"
      ],
      "execution_count": null,
      "outputs": [
        {
          "output_type": "execute_result",
          "data": {
            "text/plain": [
              "defaultdict(int,\n",
              "            {'kind': 46,\n",
              "             'nonetheless': 2,\n",
              "             'time': 132,\n",
              "             'they': 432,\n",
              "             'developed': 10,\n",
              "             'equanimity': 2,\n",
              "             'for': 708,\n",
              "             'calmness': 2,\n",
              "             'come': 126,\n",
              "             'them': 182,\n",
              "             'puzzled': 2,\n",
              "             'like': 344,\n",
              "             'things': 106,\n",
              "             'tried': 32,\n",
              "             'admire': 2,\n",
              "             'all': 314,\n",
              "             'still': 94,\n",
              "             'acceptance': 2,\n",
              "             'never': 82,\n",
              "             'strange': 2,\n",
              "             'some': 228,\n",
              "             'mormon': 2,\n",
              "             'creature': 2,\n",
              "             'teaches': 2,\n",
              "             'explain': 12,\n",
              "             'patience': 4,\n",
              "             'and': 970,\n",
              "             'the': 1370,\n",
              "             'stare': 2,\n",
              "             'from': 398,\n",
              "             'buddhism': 28,\n",
              "             'family': 24,\n",
              "             'have': 488,\n",
              "             'compassion': 4,\n",
              "             'replied': 2,\n",
              "             'because': 158,\n",
              "             'christian': 14,\n",
              "             'buddha': 28,\n",
              "             'god': 68,\n",
              "             'christians': 20,\n",
              "             'especially': 22,\n",
              "             'ourselves': 4,\n",
              "             'want': 164,\n",
              "             'buddhist': 22,\n",
              "             'see': 184,\n",
              "             'others': 104,\n",
              "             'considering': 16,\n",
              "             'don': 228,\n",
              "             'side': 16,\n",
              "             'fact': 58,\n",
              "             'with': 444,\n",
              "             'who': 316,\n",
              "             'could': 76,\n",
              "             'everyone': 44,\n",
              "             'should': 154,\n",
              "             'grace': 4,\n",
              "             'shouldn': 4,\n",
              "             'coincide': 2,\n",
              "             'showing': 16,\n",
              "             'advocating': 2,\n",
              "             'difference': 22,\n",
              "             'education': 12,\n",
              "             'believe': 64,\n",
              "             'enlightening': 2,\n",
              "             'about': 294,\n",
              "             'rich': 8,\n",
              "             'lucky': 6,\n",
              "             'how': 232,\n",
              "             'teach': 6,\n",
              "             'involving': 4,\n",
              "             'help': 22,\n",
              "             'almost': 16,\n",
              "             'aid': 2,\n",
              "             'spoke': 4,\n",
              "             'point': 66,\n",
              "             'but': 472,\n",
              "             'much': 134,\n",
              "             'mighty': 4,\n",
              "             'such': 88,\n",
              "             'well': 144,\n",
              "             'upon': 8,\n",
              "             'live': 52,\n",
              "             'translated': 2,\n",
              "             'basically': 26,\n",
              "             'later': 20,\n",
              "             'certainly': 8,\n",
              "             'remember': 26,\n",
              "             'opinion': 24,\n",
              "             'lot': 62,\n",
              "             'achieve': 12,\n",
              "             'also': 196,\n",
              "             'wrong': 48,\n",
              "             'someone': 74,\n",
              "             'similar': 16,\n",
              "             'out': 238,\n",
              "             'rarely': 4,\n",
              "             'claims': 8,\n",
              "             'personally': 20,\n",
              "             'prove': 14,\n",
              "             'leave': 20,\n",
              "             'same': 98,\n",
              "             'easier': 18,\n",
              "             'else': 40,\n",
              "             'man': 66,\n",
              "             'rid': 8,\n",
              "             'going': 102,\n",
              "             'roughly': 4,\n",
              "             'will': 368,\n",
              "             'one': 312,\n",
              "             'theory': 6,\n",
              "             'very': 154,\n",
              "             'sin': 2,\n",
              "             'wanting': 8,\n",
              "             'made': 60,\n",
              "             'joke': 12,\n",
              "             'caused': 4,\n",
              "             'right': 120,\n",
              "             'design': 2,\n",
              "             'salvation': 2,\n",
              "             'has': 334,\n",
              "             'study': 12,\n",
              "             'possessions': 2,\n",
              "             'enough': 40,\n",
              "             'something': 86,\n",
              "             'making': 42,\n",
              "             'than': 182,\n",
              "             'cry': 4,\n",
              "             'getting': 54,\n",
              "             'there': 282,\n",
              "             'that': 766,\n",
              "             'way': 94,\n",
              "             'are': 588,\n",
              "             'asked': 28,\n",
              "             'just': 342,\n",
              "             'thing': 110,\n",
              "             'heaven': 10,\n",
              "             'without': 70,\n",
              "             'knew': 4,\n",
              "             'mean': 54,\n",
              "             'said': 84,\n",
              "             'compatible': 2,\n",
              "             'conflict': 6,\n",
              "             'many': 108,\n",
              "             'remembered': 2,\n",
              "             'intelligent': 8,\n",
              "             'jesus': 14,\n",
              "             'omnipotence': 2,\n",
              "             'can': 354,\n",
              "             'anything': 68,\n",
              "             'what': 390,\n",
              "             'into': 94,\n",
              "             'seen': 58,\n",
              "             'came': 22,\n",
              "             'material': 4,\n",
              "             'distinctly': 2,\n",
              "             'christ': 10,\n",
              "             'mohamed': 2,\n",
              "             'this': 642,\n",
              "             'would': 220,\n",
              "             'christianity': 8,\n",
              "             'suffering': 10,\n",
              "             'proof': 24,\n",
              "             'fun': 26,\n",
              "             'identity': 8,\n",
              "             'dogmatic': 14,\n",
              "             'hippy': 4,\n",
              "             'these': 150,\n",
              "             'seriously': 12,\n",
              "             'its': 102,\n",
              "             'mechante': 4,\n",
              "             'too': 106,\n",
              "             'hear': 28,\n",
              "             'jpg': 66,\n",
              "             'put': 36,\n",
              "             'your': 184,\n",
              "             'reason': 72,\n",
              "             'didncha': 4,\n",
              "             'though': 56,\n",
              "             'you': 624,\n",
              "             'treat': 10,\n",
              "             'while': 76,\n",
              "             'complex': 4,\n",
              "             'first': 92,\n",
              "             'any': 212,\n",
              "             'decide': 6,\n",
              "             'people': 308,\n",
              "             'end': 44,\n",
              "             'move': 30,\n",
              "             'through': 74,\n",
              "             'then': 138,\n",
              "             'matter': 52,\n",
              "             'life': 32,\n",
              "             'anyway': 26,\n",
              "             'suit': 6,\n",
              "             'doesn': 90,\n",
              "             'went': 22,\n",
              "             'wisdom': 4,\n",
              "             'keep': 70,\n",
              "             'normal': 6,\n",
              "             'say': 102,\n",
              "             'post': 66,\n",
              "             'wall': 8,\n",
              "             'tip': 6,\n",
              "             'phase': 4,\n",
              "             'won': 64,\n",
              "             'get': 182,\n",
              "             'weird': 16,\n",
              "             'pro': 68,\n",
              "             'word': 22,\n",
              "             'only': 200,\n",
              "             'yours': 12,\n",
              "             'paper': 12,\n",
              "             'learned': 8,\n",
              "             'different': 70,\n",
              "             'passed': 6,\n",
              "             'not': 472,\n",
              "             'focus': 18,\n",
              "             'wrapping': 4,\n",
              "             'goal': 26,\n",
              "             'run': 38,\n",
              "             'regardless': 10,\n",
              "             'react': 4,\n",
              "             'alleviate': 2,\n",
              "             'exist': 4,\n",
              "             'understanding': 22,\n",
              "             'own': 40,\n",
              "             'negatively': 4,\n",
              "             'long': 60,\n",
              "             'agree': 38,\n",
              "             'able': 26,\n",
              "             'make': 108,\n",
              "             'hurt': 8,\n",
              "             'new': 54,\n",
              "             'decision': 26,\n",
              "             'although': 14,\n",
              "             'alien': 2,\n",
              "             'sharing': 2,\n",
              "             'fear': 36,\n",
              "             'articulate': 8,\n",
              "             'accept': 30,\n",
              "             'may': 92,\n",
              "             'nhat': 4,\n",
              "             'necessarily': 6,\n",
              "             'hanh': 4,\n",
              "             'path': 6,\n",
              "             'parallels': 2,\n",
              "             'beliefs': 8,\n",
              "             'perceive': 2,\n",
              "             'being': 94,\n",
              "             'ones': 22,\n",
              "             'living': 34,\n",
              "             'lost': 16,\n",
              "             'deserved': 2,\n",
              "             'display': 4,\n",
              "             'where': 98,\n",
              "             'between': 50,\n",
              "             'benefit': 8,\n",
              "             'surprised': 10,\n",
              "             'thich': 4,\n",
              "             'having': 52,\n",
              "             'read': 54,\n",
              "             'allowing': 2,\n",
              "             'indeed': 18,\n",
              "             'find': 82,\n",
              "             'properly': 10,\n",
              "             'signs': 2,\n",
              "             'least': 50,\n",
              "             'subsequent': 2,\n",
              "             'their': 284,\n",
              "             'discussions': 8,\n",
              "             'might': 64,\n",
              "             'loved': 8,\n",
              "             'faith': 28,\n",
              "             'sit': 28,\n",
              "             'simpsons': 8,\n",
              "             'together': 18,\n",
              "             'she': 54,\n",
              "             'lisa': 8,\n",
              "             'little': 26,\n",
              "             'down': 74,\n",
              "             'episode': 8,\n",
              "             'becomes': 16,\n",
              "             'watch': 24,\n",
              "             'discuss': 16,\n",
              "             'season': 24,\n",
              "             'change': 64,\n",
              "             'mockingly': 2,\n",
              "             'ever': 48,\n",
              "             'grades': 2,\n",
              "             'profound': 6,\n",
              "             'gotten': 4,\n",
              "             'sense': 22,\n",
              "             'energy': 4,\n",
              "             'pretend': 2,\n",
              "             'told': 24,\n",
              "             'calmed': 4,\n",
              "             'did': 92,\n",
              "             'vanished': 2,\n",
              "             'content': 8,\n",
              "             'undiagnosed': 2,\n",
              "             'happy': 16,\n",
              "             'was': 290,\n",
              "             'next': 36,\n",
              "             'more': 198,\n",
              "             'weeks': 8,\n",
              "             'changes': 10,\n",
              "             'affected': 4,\n",
              "             'her': 62,\n",
              "             'mother': 8,\n",
              "             'most': 126,\n",
              "             'arts': 2,\n",
              "             'breathy': 2,\n",
              "             'been': 136,\n",
              "             'around': 60,\n",
              "             'positive': 12,\n",
              "             'link': 30,\n",
              "             'across': 10,\n",
              "             'palpable': 2,\n",
              "             'foolishly': 2,\n",
              "             'peace': 2,\n",
              "             'bpd': 2,\n",
              "             'immediately': 6,\n",
              "             'happened': 26,\n",
              "             'connection': 4,\n",
              "             'probably': 26,\n",
              "             'naivet': 2,\n",
              "             'profoundly': 2,\n",
              "             'zen': 12,\n",
              "             'realized': 4,\n",
              "             'teens': 2,\n",
              "             'huge': 36,\n",
              "             'sorry': 14,\n",
              "             'found': 28,\n",
              "             'parents': 2,\n",
              "             'when': 146,\n",
              "             'calm': 2,\n",
              "             'helped': 8,\n",
              "             'voice': 6,\n",
              "             'really': 110,\n",
              "             'web': 4,\n",
              "             'kicked': 2,\n",
              "             'trying': 44,\n",
              "             'homeschooled': 2,\n",
              "             'moment': 26,\n",
              "             'belief': 2,\n",
              "             'felt': 4,\n",
              "             'fundie': 2,\n",
              "             '56k': 2,\n",
              "             'discovered': 2,\n",
              "             'started': 34,\n",
              "             'meditation': 8,\n",
              "             'couple': 18,\n",
              "             'forget': 4,\n",
              "             'martial': 2,\n",
              "             'modem': 2,\n",
              "             'completely': 28,\n",
              "             'had': 112,\n",
              "             'thought': 24,\n",
              "             'jew': 4,\n",
              "             'meets': 4,\n",
              "             'wouldn': 14,\n",
              "             'battle': 6,\n",
              "             'religious': 42,\n",
              "             'wish': 38,\n",
              "             'words': 18,\n",
              "             'hate': 148,\n",
              "             'presented': 6,\n",
              "             'take': 98,\n",
              "             'fairly': 18,\n",
              "             'even': 178,\n",
              "             'idea': 34,\n",
              "             'moderates': 6,\n",
              "             'teachings': 10,\n",
              "             'ordinary': 10,\n",
              "             'parallel': 6,\n",
              "             'spiritual': 6,\n",
              "             'two': 64,\n",
              "             'heart': 14,\n",
              "             'letter': 10,\n",
              "             'uphill': 6,\n",
              "             'contrasting': 6,\n",
              "             'dwell': 6,\n",
              "             'easily': 22,\n",
              "             'spirit': 6,\n",
              "             'oversimplify': 6,\n",
              "             'believer': 8,\n",
              "             'luck': 8,\n",
              "             'conservative': 22,\n",
              "             'discussing': 12,\n",
              "             'comparing': 12,\n",
              "             'advice': 12,\n",
              "             'differently': 8,\n",
              "             'relevant': 20,\n",
              "             'give': 86,\n",
              "             'law': 60,\n",
              "             'exchange': 8,\n",
              "             'varieties': 6,\n",
              "             'religion': 64,\n",
              "             'helps': 10,\n",
              "             'welcome': 12,\n",
              "             'pms': 2,\n",
              "             'try': 32,\n",
              "             'meditate': 2,\n",
              "             'follow': 12,\n",
              "             'aware': 16,\n",
              "             'everything': 46,\n",
              "             'his': 222,\n",
              "             'yourself': 12,\n",
              "             'regularly': 4,\n",
              "             'hard': 40,\n",
              "             'dont': 52,\n",
              "             'worry': 12,\n",
              "             'coming': 32,\n",
              "             'throught': 2,\n",
              "             'situation': 14,\n",
              "             'belt': 2,\n",
              "             'involved': 10,\n",
              "             'leaving': 12,\n",
              "             'buddhists': 6,\n",
              "             'ordeal': 2,\n",
              "             'good': 164,\n",
              "             'accepting': 6,\n",
              "             'important': 30,\n",
              "             'care': 16,\n",
              "             'relationships': 2,\n",
              "             'great': 66,\n",
              "             'respect': 32,\n",
              "             'handful': 4,\n",
              "             'those': 108,\n",
              "             'conversations': 4,\n",
              "             'bible': 2,\n",
              "             'message': 8,\n",
              "             'whole': 24,\n",
              "             'open': 28,\n",
              "             'baptist': 4,\n",
              "             'created': 22,\n",
              "             'lovely': 10,\n",
              "             'recently': 22,\n",
              "             'church': 10,\n",
              "             'truly': 4,\n",
              "             'pretty': 46,\n",
              "             'suggested': 2,\n",
              "             'dialogue': 2,\n",
              "             'rough': 2,\n",
              "             'start': 36,\n",
              "             'unto': 2,\n",
              "             'became': 16,\n",
              "             'both': 60,\n",
              "             'understand': 40,\n",
              "             'better': 90,\n",
              "             'due': 36,\n",
              "             'control': 14,\n",
              "             'learning': 2,\n",
              "             'let': 56,\n",
              "             'understood': 8,\n",
              "             'praise': 4,\n",
              "             'guy': 36,\n",
              "             'annointed': 2,\n",
              "             'vocabulary': 2,\n",
              "             'become': 48,\n",
              "             'know': 152,\n",
              "             'best': 42,\n",
              "             'philosophy': 4,\n",
              "             'named': 10,\n",
              "             'messages': 6,\n",
              "             'means': 18,\n",
              "             'issues': 48,\n",
              "             'subject': 10,\n",
              "             'worship': 8,\n",
              "             'practice': 18,\n",
              "             'continue': 8,\n",
              "             'enlightened': 2,\n",
              "             'work': 72,\n",
              "             'always': 56,\n",
              "             'coping': 2,\n",
              "             'ask': 32,\n",
              "             'quite': 28,\n",
              "             'heard': 32,\n",
              "             'person': 56,\n",
              "             'giving': 14,\n",
              "             'quick': 10,\n",
              "             'browsing': 2,\n",
              "             'question': 48,\n",
              "             'think': 150,\n",
              "             'must': 36,\n",
              "             'house': 18,\n",
              "             'lama': 4,\n",
              "             'books': 8,\n",
              "             'interesting': 28,\n",
              "             'dharma': 4,\n",
              "             'other': 198,\n",
              "             'learn': 14,\n",
              "             'maybe': 34,\n",
              "             'pick': 12,\n",
              "             'introduce': 4,\n",
              "             'sure': 70,\n",
              "             'browse': 2,\n",
              "             'owned': 2,\n",
              "             'instead': 42,\n",
              "             'excited': 4,\n",
              "             'answer': 22,\n",
              "             'challenges': 2,\n",
              "             'problems': 48,\n",
              "             'traditions': 2,\n",
              "             'bit': 48,\n",
              "             'looking': 40,\n",
              "             'times': 48,\n",
              "             'cultures': 2,\n",
              "             'prayer': 2,\n",
              "             'mind': 84,\n",
              "             'name': 40,\n",
              "             'nor': 24,\n",
              "             'died': 10,\n",
              "             'couting': 2,\n",
              "             'replace': 4,\n",
              "             'were': 142,\n",
              "             'breath': 2,\n",
              "             'beginning': 10,\n",
              "             'born': 8,\n",
              "             'does': 134,\n",
              "             'pai': 4,\n",
              "             'chunked': 4,\n",
              "             'include': 12,\n",
              "             'evil': 48,\n",
              "             'lady': 4,\n",
              "             'pelor': 16,\n",
              "             'drought': 2,\n",
              "             'called': 16,\n",
              "             'radiant': 2,\n",
              "             'sun': 6,\n",
              "             'generally': 8,\n",
              "             'fey': 2,\n",
              "             'campaign': 16,\n",
              "             'brings': 4,\n",
              "             'second': 22,\n",
              "             'stifling': 2,\n",
              "             'hags': 2,\n",
              "             'shamedan': 2,\n",
              "             'fire': 10,\n",
              "             'part': 56,\n",
              "             'desert': 2,\n",
              "             'him': 108,\n",
              "             'race': 4,\n",
              "             'kill': 18,\n",
              "             'burning': 20,\n",
              "             'mercy': 8,\n",
              "             'haven': 6,\n",
              "             'played': 2,\n",
              "             'resistance': 8,\n",
              "             'nice': 46,\n",
              "             'suns': 4,\n",
              "             'nearly': 10,\n",
              "             'our': 78,\n",
              "             'destroys': 2,\n",
              "             'fertile': 6,\n",
              "             'represent': 8,\n",
              "             'shapeshift': 6,\n",
              "             'whereas': 6,\n",
              "             'badass': 8,\n",
              "             'land': 40,\n",
              "             'power': 100,\n",
              "             'crocodiles': 6,\n",
              "             'sobek': 6,\n",
              "             'technically': 14,\n",
              "             'crocodile': 6,\n",
              "             'argue': 8,\n",
              "             'represents': 6,\n",
              "             'zarus': 2,\n",
              "             'souls': 6,\n",
              "             'blood': 8,\n",
              "             'lord': 12,\n",
              "             'arioch': 6,\n",
              "             'pale': 2,\n",
              "             'blast': 2,\n",
              "             'guess': 32,\n",
              "             'dangerous': 10,\n",
              "             'thereof': 2,\n",
              "             'favorite': 2,\n",
              "             'lords': 2,\n",
              "             'deity': 12,\n",
              "             'hells': 6,\n",
              "             'abyssal': 2,\n",
              "             'use': 56,\n",
              "             'far': 50,\n",
              "             'powerful': 10,\n",
              "             'straightforward': 2,\n",
              "             'portfolio': 2,\n",
              "             'close': 18,\n",
              "             'rulers': 2,\n",
              "             'lack': 18,\n",
              "             'playing': 16,\n",
              "             'vecna': 2,\n",
              "             'intriguing': 2,\n",
              "             'backstory': 2,\n",
              "             'ample': 2,\n",
              "             'liked': 4,\n",
              "             'night': 12,\n",
              "             'nine': 2,\n",
              "             'story': 14,\n",
              "             'suggestions': 4,\n",
              "             'fat': 2,\n",
              "             'righteous': 4,\n",
              "             'brutal': 2,\n",
              "             'years': 80,\n",
              "             'starving': 2,\n",
              "             'justice': 10,\n",
              "             'deities': 4,\n",
              "             'dwelling': 2,\n",
              "             'death': 6,\n",
              "             'gnolls': 2,\n",
              "             'cavern': 2,\n",
              "             'light': 4,\n",
              "             'bountiful': 2,\n",
              "             'steal': 4,\n",
              "             'loki': 2,\n",
              "             'leading': 38,\n",
              "             'benefactor': 2,\n",
              "             'view': 30,\n",
              "             'sufficiently': 2,\n",
              "             'additional': 2,\n",
              "             'thinking': 20,\n",
              "             'crops': 2,\n",
              "             'served': 4,\n",
              "             'blinding': 2,\n",
              "             'over': 96,\n",
              "             'peasantry': 2,\n",
              "             'conflicts': 2,\n",
              "             'overlap': 2,\n",
              "             'statues': 2,\n",
              "             'fooled': 6,\n",
              "             'woman': 14,\n",
              "             'wicked': 2,\n",
              "             'consider': 18,\n",
              "             'food': 32,\n",
              "             'cyric': 4,\n",
              "             'got': 78,\n",
              "             'nabbed': 4,\n",
              "             'gotta': 6,\n",
              "             'mortal': 6,\n",
              "             'cliche': 4,\n",
              "             'chance': 40,\n",
              "             'pathfinder': 2,\n",
              "             'zon': 2,\n",
              "             'stumbled': 2,\n",
              "             'kuthon': 2,\n",
              "             'godly': 2,\n",
              "             'powers': 4,\n",
              "             'cayden': 2,\n",
              "             'bard': 2,\n",
              "             'setting': 12,\n",
              "             'off': 66,\n",
              "             'cailean': 2,\n",
              "             'stone': 4,\n",
              "             'sister': 4,\n",
              "             'shelyn': 2,\n",
              "             'plus': 6,\n",
              "             'artifact': 2,\n",
              "             'memory': 2,\n",
              "             'star': 2,\n",
              "             'temple': 6,\n",
              "             'coolest': 2,\n",
              "             'wasted': 2,\n",
              "             'before': 122,\n",
              "             'topic': 8,\n",
              "             'morning': 8,\n",
              "             'woke': 2,\n",
              "             'cool': 12,\n",
              "             'hangover': 2,\n",
              "             'turn': 32,\n",
              "             'lewian': 4,\n",
              "             'applied': 8,\n",
              "             'cruel': 4,\n",
              "             'benevolent': 4,\n",
              "             'running': 34,\n",
              "             'basketball': 4,\n",
              "             'sponsor': 4,\n",
              "             'vengeance': 6,\n",
              "             'catch': 6,\n",
              "             'domains': 4,\n",
              "             'city': 22,\n",
              "             'teams': 12,\n",
              "             'major': 26,\n",
              "             'community': 34,\n",
              "             'lawful': 6,\n",
              "             'friend': 12,\n",
              "             'harsh': 14,\n",
              "             'churches': 6,\n",
              "             'thus': 22,\n",
              "             'toward': 4,\n",
              "             'inner': 4,\n",
              "             'three': 16,\n",
              "             'primary': 10,\n",
              "             'day': 88,\n",
              "             'flies': 4,\n",
              "             'often': 16,\n",
              "             'essentially': 6,\n",
              "             'honey': 4,\n",
              "             'tyranny': 10,\n",
              "             'dynamic': 4,\n",
              "             'lewie': 4,\n",
              "             'vinegar': 4,\n",
              "             'gag': 4,\n",
              "             'common': 28,\n",
              "             'basis': 4,\n",
              "             'recognizes': 4,\n",
              "             'within': 18,\n",
              "             'homebrew': 4,\n",
              "             'shall': 14,\n",
              "             'breasts': 4,\n",
              "             'warts': 4,\n",
              "             'burls': 4,\n",
              "             'wherever': 6,\n",
              "             'whales': 4,\n",
              "             'lump': 4,\n",
              "             'tree': 4,\n",
              "             'lumps': 4,\n",
              "             'humpback': 4,\n",
              "             'wh40k': 6,\n",
              "             'spread': 14,\n",
              "             'nar': 6,\n",
              "             'worked': 16,\n",
              "             'works': 14,\n",
              "             'whfb': 6,\n",
              "             'revolved': 6,\n",
              "             'lasted': 6,\n",
              "             'renamed': 6,\n",
              "             'nurgle': 6,\n",
              "             'universe': 8,\n",
              "             'meant': 6,\n",
              "             '1000': 16,\n",
              "             'sleep': 10,\n",
              "             'back': 92,\n",
              "             'directly': 16,\n",
              "             'encountered': 6,\n",
              "             'diseases': 6,\n",
              "             'random': 18,\n",
              "             'stats': 6,\n",
              "             'damn': 36,\n",
              "             'sadly': 10,\n",
              "             'plague': 6,\n",
              "             'stalled': 6,\n",
              "             'cult': 6,\n",
              "             'narghull': 6,\n",
              "             'snatched': 6,\n",
              "             'ghull': 6,\n",
              "             'chaos': 8,\n",
              "             'apostrophes': 6,\n",
              "             'meaning': 16,\n",
              "             'lazy': 10,\n",
              "             'wake': 6,\n",
              "             'demogorgon': 2,\n",
              "             'fuck': 78,\n",
              "             'shit': 90,\n",
              "             'choose': 16,\n",
              "             'gods': 10,\n",
              "             'badasss': 4,\n",
              "             'real': 26,\n",
              "             'list': 10,\n",
              "             'plenty': 16,\n",
              "             'mythos': 4,\n",
              "             'cthulhu': 4,\n",
              "             'hecate': 2,\n",
              "             'goddess': 4,\n",
              "             'fyi': 2,\n",
              "             'romans': 2,\n",
              "             'traditional': 10,\n",
              "             'chtonic': 2,\n",
              "             'magic': 8,\n",
              "             'invoke': 4,\n",
              "             'themselves': 30,\n",
              "             'followers': 26,\n",
              "             'ultimate': 10,\n",
              "             'pansy': 4,\n",
              "             'bother': 8,\n",
              "             'needing': 4,\n",
              "             'bringing': 22,\n",
              "             'isn': 48,\n",
              "             'here': 190,\n",
              "             'check': 20,\n",
              "             'realms': 4,\n",
              "             'despair': 4,\n",
              "             'boons': 4,\n",
              "             'hopes': 8,\n",
              "             'small': 34,\n",
              "             'nothing': 72,\n",
              "             'events': 4,\n",
              "             'forgotten': 4,\n",
              "             'somebody': 6,\n",
              "             'near': 12,\n",
              "             'goddesses': 4,\n",
              "             'goes': 18,\n",
              "             'prevent': 8,\n",
              "             'sacrifice': 4,\n",
              "             'asking': 40,\n",
              "             'dogma': 10,\n",
              "             'nod': 4,\n",
              "             'appreciation': 14,\n",
              "             'shar': 4,\n",
              "             'fan': 28,\n",
              "             'loss': 28,\n",
              "             'world': 38,\n",
              "             'big': 52,\n",
              "             'underworld': 2,\n",
              "             'judge': 2,\n",
              "             'egyptian': 2,\n",
              "             'tides': 2,\n",
              "             'among': 22,\n",
              "             'repercussion': 2,\n",
              "             'dead': 16,\n",
              "             'why': 206,\n",
              "             'humanity': 2,\n",
              "             'feels': 2,\n",
              "             'revenge': 6,\n",
              "             'prometheus': 2,\n",
              "             'granted': 2,\n",
              "             'dragged': 4,\n",
              "             'gives': 16,\n",
              "             'judgment': 4,\n",
              "             'order': 14,\n",
              "             'inhuman': 2,\n",
              "             'half': 22,\n",
              "             'pcs': 2,\n",
              "             'jealous': 2,\n",
              "             'furthermore': 2,\n",
              "             'cerberus': 2,\n",
              "             'seem': 30,\n",
              "             'less': 34,\n",
              "             'demi': 2,\n",
              "             'status': 4,\n",
              "             'face': 26,\n",
              "             'virtue': 2,\n",
              "             'mortals': 4,\n",
              "             'action': 22,\n",
              "             'creation': 8,\n",
              "             'morals': 2,\n",
              "             'perhaps': 14,\n",
              "             'however': 44,\n",
              "             'hextor': 6,\n",
              "             'conquest': 6,\n",
              "             'boss': 6,\n",
              "             'lawyers': 6,\n",
              "             'inevitable': 4,\n",
              "             'merely': 2,\n",
              "             'plans': 10,\n",
              "             'perfect': 10,\n",
              "             'which': 166,\n",
              "             'jas': 2,\n",
              "             'wee': 2,\n",
              "             'cleric': 2,\n",
              "             'fabulous': 4,\n",
              "             'representation': 2,\n",
              "             'necromancy': 2,\n",
              "             'waits': 2,\n",
              "             'thwarted': 2,\n",
              "             'neutral': 22,\n",
              "             'true': 62,\n",
              "             'remains': 2,\n",
              "             'empty': 4,\n",
              "             'feelings': 2,\n",
              "             'thoughts': 6,\n",
              "             'analytical': 2,\n",
              "             'disorder': 2,\n",
              "             'aspect': 6,\n",
              "             'consciousness': 4,\n",
              "             'bassui': 2,\n",
              "             'consisting': 8,\n",
              "             'individual': 18,\n",
              "             'temporary': 2,\n",
              "             'elements': 10,\n",
              "             'bliss': 4,\n",
              "             'nature': 8,\n",
              "             'rather': 32,\n",
              "             'aggregates': 2,\n",
              "             'destroyed': 6,\n",
              "             'purified': 2,\n",
              "             'body': 6,\n",
              "             'after': 110,\n",
              "             'seeks': 6,\n",
              "             'form': 26,\n",
              "             'formation': 2,\n",
              "             'functioning': 4,\n",
              "             'attachment': 4,\n",
              "             'inception': 2,\n",
              "             'master': 4,\n",
              "             'referred': 2,\n",
              "             'self': 36,\n",
              "             'disperse': 2,\n",
              "             'four': 6,\n",
              "             'five': 8,\n",
              "             'pure': 20,\n",
              "             'seeking': 2,\n",
              "             'physical': 8,\n",
              "             'extinguish': 2,\n",
              "             'west': 12,\n",
              "             'originally': 2,\n",
              "             'now': 150,\n",
              "             'taught': 6,\n",
              "             'opposed': 6,\n",
              "             'schools': 6,\n",
              "             'usual': 6,\n",
              "             'dimension': 4,\n",
              "             'afterlife': 2,\n",
              "             'phenomenon': 4,\n",
              "             'historical': 4,\n",
              "             'worth': 18,\n",
              "             'makes': 28,\n",
              "             'psychological': 2,\n",
              "             'metaphors': 2,\n",
              "             'dramatically': 4,\n",
              "             'purely': 2,\n",
              "             'wondering': 12,\n",
              "             'useless': 6,\n",
              "             'audience': 6,\n",
              "             'example': 34,\n",
              "             'stories': 6,\n",
              "             'flavours': 2,\n",
              "             'whatever': 26,\n",
              "             'happen': 24,\n",
              "             'himself': 16,\n",
              "             'competitor': 2,\n",
              "             'koans': 2,\n",
              "             'taken': 10,\n",
              "             'non': 22,\n",
              "             'noting': 4,\n",
              "             'book': 4,\n",
              "             'place': 58,\n",
              "             'parables': 2,\n",
              "             'literally': 12,\n",
              "             'entirely': 4,\n",
              "             'irrelevant': 24,\n",
              "             'styles': 2,\n",
              "             'religions': 16,\n",
              "             'cosmology': 2,\n",
              "             'distilled': 2,\n",
              "             'cosmos': 2,\n",
              "             'bunch': 20,\n",
              "             'missing': 10,\n",
              "             'abrahamic': 8,\n",
              "             'reading': 42,\n",
              "             'history': 26,\n",
              "             'ideas': 10,\n",
              "             'sinner': 2,\n",
              "             'realize': 10,\n",
              "             'believing': 8,\n",
              "             'compared': 16,\n",
              "             'physically': 2,\n",
              "             'dimensions': 2,\n",
              "             'repelling': 2,\n",
              "             'apply': 2,\n",
              "             'given': 40,\n",
              "             'exists': 2,\n",
              "             'dependant': 2,\n",
              "             'attraction': 2,\n",
              "             'human': 18,\n",
              "             'laws': 20,\n",
              "             'applicable': 2,\n",
              "             'begins': 6,\n",
              "             'average': 12,\n",
              "             'overcome': 2,\n",
              "             'newer': 4,\n",
              "             'overwhelming': 2,\n",
              "             'single': 26,\n",
              "             'beings': 6,\n",
              "             'sincerely': 4,\n",
              "             'simply': 24,\n",
              "             'samsara': 2,\n",
              "             'amitabha': 4,\n",
              "             'supernatural': 4,\n",
              "             'maintain': 2,\n",
              "             'anger': 2,\n",
              "             'electromagnetic': 2,\n",
              "             'main': 10,\n",
              "             'worlds': 2,\n",
              "             'love': 56,\n",
              "             'metaphorical': 2,\n",
              "             'sadness': 2,\n",
              "             'embrace': 2,\n",
              "             'metaphysical': 2,\n",
              "             'hope': 80,\n",
              "             'efforts': 8,\n",
              "             'against': 104,\n",
              "             'sex': 18,\n",
              "             'beyond': 6,\n",
              "             'call': 26,\n",
              "             'craving': 2,\n",
              "             'again': 50,\n",
              "             'planes': 4,\n",
              "             'carried': 6,\n",
              "             'earth': 6,\n",
              "             'individuals': 2,\n",
              "             'force': 6,\n",
              "             'rejoin': 2,\n",
              "             'existence': 12,\n",
              "             'electrons': 2,\n",
              "             'certain': 14,\n",
              "             'began': 2,\n",
              "             'lands': 4,\n",
              "             'emotions': 2,\n",
              "             '100': 24,\n",
              "             'noble': 4,\n",
              "             ...})"
            ]
          },
          "metadata": {
            "tags": []
          },
          "execution_count": 59
        }
      ]
    },
    {
      "cell_type": "code",
      "metadata": {
        "colab": {
          "base_uri": "https://localhost:8080/"
        },
        "id": "WuPDXHjWeJd4",
        "outputId": "f8a47632-02d1-4aa5-bbb1-3efaffeffbc2"
      },
      "source": [
        "x.shape"
      ],
      "execution_count": null,
      "outputs": [
        {
          "output_type": "execute_result",
          "data": {
            "text/plain": [
              "(2970, 455)"
            ]
          },
          "metadata": {
            "tags": []
          },
          "execution_count": 44
        }
      ]
    },
    {
      "cell_type": "code",
      "metadata": {
        "id": "flydF_13ydj1"
      },
      "source": [
        "#creating model\n",
        "from keras.models import Sequential\n",
        "model=Sequential()\n",
        "# Embed a 10000 word vocabulary into 256 dimensions.\n",
        "model.add(Embedding(10000,256,input_length=x.shape[1]))   #sequence of integer to dense vector\n",
        "#model.add(Dropout(0.3)) #for regularization\n",
        "model.add(LSTM(256,return_sequences=True,dropout=0.3,recurrent_dropout=0.2))\n",
        "model.add(LSTM(256, dropout=0.3,recurrent_dropout=0.2))\n",
        "\n",
        "model.add(Dense(1,activation='softmax'))"
      ],
      "execution_count": null,
      "outputs": []
    },
    {
      "cell_type": "code",
      "metadata": {
        "colab": {
          "base_uri": "https://localhost:8080/"
        },
        "id": "KjEd0BS2ztvY",
        "outputId": "bc8bdb68-57f1-404c-f70e-397a2aea9529"
      },
      "source": [
        "#performance measure\n",
        "model.compile(loss=tf.keras.losses.BinaryCrossentropy(),optimizer='adam',metrics=[\"accuracy\"])\n",
        "model.summary()"
      ],
      "execution_count": null,
      "outputs": [
        {
          "output_type": "stream",
          "text": [
            "Model: \"sequential_2\"\n",
            "_________________________________________________________________\n",
            "Layer (type)                 Output Shape              Param #   \n",
            "=================================================================\n",
            "embedding_2 (Embedding)      (None, 455, 256)          2560000   \n",
            "_________________________________________________________________\n",
            "lstm_4 (LSTM)                (None, 455, 256)          525312    \n",
            "_________________________________________________________________\n",
            "lstm_5 (LSTM)                (None, 256)               525312    \n",
            "_________________________________________________________________\n",
            "dense_2 (Dense)              (None, 1)                 257       \n",
            "=================================================================\n",
            "Total params: 3,610,881\n",
            "Trainable params: 3,610,881\n",
            "Non-trainable params: 0\n",
            "_________________________________________________________________\n"
          ],
          "name": "stdout"
        }
      ]
    },
    {
      "cell_type": "code",
      "metadata": {
        "id": "Pd11JTsd0a6m"
      },
      "source": [
        "from sklearn.model_selection import train_test_split\n",
        "y=df['category']\n",
        "xtrain,xtest,ytrain,ytest=train_test_split(x,y, test_size=0.2)\n",
        "ytrain=np.asarray(ytrain).astype('int').reshape((-1,1))\n",
        "ytest=np.asarray(ytest).astype('int').reshape((-1,1))"
      ],
      "execution_count": null,
      "outputs": []
    },
    {
      "cell_type": "code",
      "metadata": {
        "id": "CkBWiLJNpTuV"
      },
      "source": [
        ""
      ],
      "execution_count": null,
      "outputs": []
    },
    {
      "cell_type": "code",
      "metadata": {
        "id": "SWcFtq3w0dnz",
        "colab": {
          "base_uri": "https://localhost:8080/"
        },
        "outputId": "1fd97a23-0115-42b1-86b9-83d461706603"
      },
      "source": [
        "batch_size=32\n",
        "epochs=1\n",
        "\n",
        "model.fit(x=xtrain,y=ytrain,epochs=epochs,batch_size=batch_size, verbose=2)"
      ],
      "execution_count": null,
      "outputs": [
        {
          "output_type": "stream",
          "text": [
            "75/75 - 622s - loss: -5.7604e-02 - accuracy: 0.3333\n"
          ],
          "name": "stdout"
        },
        {
          "output_type": "execute_result",
          "data": {
            "text/plain": [
              "<keras.callbacks.History at 0x7ff4b457fa10>"
            ]
          },
          "metadata": {
            "tags": []
          },
          "execution_count": 69
        }
      ]
    },
    {
      "cell_type": "code",
      "metadata": {
        "colab": {
          "base_uri": "https://localhost:8080/"
        },
        "id": "4TZST94Tkem9",
        "outputId": "fa3c21d6-d820-48f8-85ae-5872b37a2328"
      },
      "source": [
        "len(ytrain)"
      ],
      "execution_count": null,
      "outputs": [
        {
          "output_type": "execute_result",
          "data": {
            "text/plain": [
              "2376"
            ]
          },
          "metadata": {
            "tags": []
          },
          "execution_count": 57
        }
      ]
    },
    {
      "cell_type": "code",
      "metadata": {
        "colab": {
          "base_uri": "https://localhost:8080/"
        },
        "id": "Yt1Q0UlB9q8J",
        "outputId": "1f9a1a6b-7a7a-4be9-b19b-7ec7448aedad"
      },
      "source": [
        "len(model.predict_on_batch(xtest[:33]))"
      ],
      "execution_count": null,
      "outputs": [
        {
          "output_type": "execute_result",
          "data": {
            "text/plain": [
              "33"
            ]
          },
          "metadata": {
            "tags": []
          },
          "execution_count": 72
        }
      ]
    },
    {
      "cell_type": "code",
      "metadata": {
        "id": "01M35FTE99ey"
      },
      "source": [
        "asas=model.predict(x[1])\n",
        "asas"
      ],
      "execution_count": null,
      "outputs": []
    },
    {
      "cell_type": "code",
      "metadata": {
        "id": "MD59hM4XCjpi"
      },
      "source": [
        "len(xy)"
      ],
      "execution_count": null,
      "outputs": []
    },
    {
      "cell_type": "code",
      "metadata": {
        "id": "dMOWWK8G-aNZ"
      },
      "source": [
        "model.save('/tmp/abuse_detection_model.h5')"
      ],
      "execution_count": null,
      "outputs": []
    },
    {
      "cell_type": "code",
      "metadata": {
        "id": "CukCnMZp1QrW"
      },
      "source": [
        "results = model.evaluate(xtest, ytest, batch_size=32)\n",
        "print(\"test loss, test acc:\", results)"
      ],
      "execution_count": null,
      "outputs": []
    },
    {
      "cell_type": "code",
      "metadata": {
        "id": "bYCqgI199Lsy"
      },
      "source": [
        "import pickle as pkl\n",
        "from sklearn.naive_bayes import MultinomialNB\n",
        "\n",
        "nb = MultinomialNB()\n",
        "\n",
        "nb.fit(x, y)\n",
        "\n",
        "nb.score(x, y)\n",
        "\n",
        "\n",
        "y_pred = nb.predict()\n",
        "\n",
        "with open('abuse_detection', 'wb') as file:\n",
        "    pickle.dump(model,file)"
      ],
      "execution_count": null,
      "outputs": []
    },
    {
      "cell_type": "code",
      "metadata": {
        "id": "_L1NTPMxz9rq"
      },
      "source": [
        ""
      ],
      "execution_count": null,
      "outputs": []
    }
  ]
}